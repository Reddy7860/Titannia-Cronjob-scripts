{
 "cells": [
  {
   "cell_type": "code",
   "execution_count": 1,
   "id": "78becb4d",
   "metadata": {},
   "outputs": [],
   "source": [
    "from keras.callbacks import ModelCheckpoint\n",
    "from keras.models import Sequential\n",
    "from keras.layers import Dense, Activation, Flatten\n",
    "from sklearn.model_selection import train_test_split\n",
    "from sklearn.ensemble import RandomForestRegressor\n",
    "from sklearn.metrics import mean_absolute_error \n",
    "from matplotlib import pyplot as plt\n",
    "import seaborn as sb\n",
    "import matplotlib.pyplot as plt\n",
    "import pandas as pd\n",
    "import numpy as np\n",
    "import warnings \n",
    "warnings.filterwarnings('ignore')\n",
    "warnings.filterwarnings('ignore', category=DeprecationWarning)\n",
    "from xgboost import XGBRegressor\n",
    "import yfinance as yf\n",
    "from sklearn.preprocessing import MinMaxScaler\n",
    "\n",
    "from sklearn.utils import shuffle\n",
    "import math\n",
    "from sklearn.metrics import mean_squared_error"
   ]
  },
  {
   "cell_type": "code",
   "execution_count": 2,
   "id": "53d6e816",
   "metadata": {},
   "outputs": [],
   "source": [
    "predictions_df = pd.DataFrame(columns = ['Model','Index','Price','MAE'])"
   ]
  },
  {
   "cell_type": "code",
   "execution_count": 22,
   "id": "a3bdbef6",
   "metadata": {},
   "outputs": [
    {
     "name": "stdout",
     "output_type": "stream",
     "text": [
      "[*********************100%***********************]  1 of 1 completed\n"
     ]
    }
   ],
   "source": [
    "## Fetching the data\n",
    "\n",
    "df = yf.download('%5ENSEI', '2008-01-01', auto_adjust=True)\n",
    "\n",
    "df = df.reset_index()\n",
    "\n",
    "## Get the latest entry for predicting next day price\n",
    "\n",
    "latest_test = df.tail(1)\n",
    "\n",
    "## Shift the next day close to current entry\n",
    "\n",
    "df['Next_Closed'] = df['Close'].shift(-1)\n",
    "\n",
    "df = df.dropna()\n",
    "\n",
    "df = shuffle(df)\n",
    "\n",
    "df = df[['Open','High','Low','Close','Volume','Next_Closed']]\n",
    "\n",
    "## Prepare the test and train dataset\n",
    "train_data = df[:int((len(df)+1)*.80)]\n",
    "test_data = df[int((len(df)+1)*.80):]\n",
    "\n",
    "\n",
    "## Get the next day closing as target variable\n",
    "target = train_data['Next_Closed']\n",
    "\n",
    "test_target = test_data['Next_Closed']\n",
    "\n",
    "combined = df[['Open','High','Low','Close']]"
   ]
  },
  {
   "cell_type": "code",
   "execution_count": 23,
   "id": "90d7f13b",
   "metadata": {},
   "outputs": [],
   "source": [
    "latest_test = latest_test[['Open','High','Low','Close']]\n",
    "\n",
    "latest_test.reset_index(inplace = True, drop = True)"
   ]
  },
  {
   "cell_type": "code",
   "execution_count": 24,
   "id": "2eb6fca1",
   "metadata": {},
   "outputs": [],
   "source": [
    "train = combined[:len(target)]\n",
    "test = combined[len(target):]"
   ]
  },
  {
   "cell_type": "code",
   "execution_count": 27,
   "id": "bc321e93",
   "metadata": {},
   "outputs": [
    {
     "data": {
      "text/html": [
       "<div>\n",
       "<style scoped>\n",
       "    .dataframe tbody tr th:only-of-type {\n",
       "        vertical-align: middle;\n",
       "    }\n",
       "\n",
       "    .dataframe tbody tr th {\n",
       "        vertical-align: top;\n",
       "    }\n",
       "\n",
       "    .dataframe thead th {\n",
       "        text-align: right;\n",
       "    }\n",
       "</style>\n",
       "<table border=\"1\" class=\"dataframe\">\n",
       "  <thead>\n",
       "    <tr style=\"text-align: right;\">\n",
       "      <th></th>\n",
       "      <th>Open</th>\n",
       "      <th>High</th>\n",
       "      <th>Low</th>\n",
       "      <th>Close</th>\n",
       "    </tr>\n",
       "  </thead>\n",
       "  <tbody>\n",
       "    <tr>\n",
       "      <th>1502</th>\n",
       "      <td>6108.299805</td>\n",
       "      <td>6159.649902</td>\n",
       "      <td>6108.000000</td>\n",
       "      <td>6155.450195</td>\n",
       "    </tr>\n",
       "    <tr>\n",
       "      <th>3464</th>\n",
       "      <td>16548.900391</td>\n",
       "      <td>16705.250000</td>\n",
       "      <td>16203.250000</td>\n",
       "      <td>16247.950195</td>\n",
       "    </tr>\n",
       "    <tr>\n",
       "      <th>202</th>\n",
       "      <td>2936.250000</td>\n",
       "      <td>2936.250000</td>\n",
       "      <td>2525.050049</td>\n",
       "      <td>2584.000000</td>\n",
       "    </tr>\n",
       "    <tr>\n",
       "      <th>459</th>\n",
       "      <td>5052.950195</td>\n",
       "      <td>5113.100098</td>\n",
       "      <td>5052.100098</td>\n",
       "      <td>5103.549805</td>\n",
       "    </tr>\n",
       "    <tr>\n",
       "      <th>2394</th>\n",
       "      <td>10176.650391</td>\n",
       "      <td>10224.150391</td>\n",
       "      <td>10124.500000</td>\n",
       "      <td>10184.849609</td>\n",
       "    </tr>\n",
       "    <tr>\n",
       "      <th>...</th>\n",
       "      <td>...</td>\n",
       "      <td>...</td>\n",
       "      <td>...</td>\n",
       "      <td>...</td>\n",
       "    </tr>\n",
       "    <tr>\n",
       "      <th>2080</th>\n",
       "      <td>8540.450195</td>\n",
       "      <td>8550.250000</td>\n",
       "      <td>8493.549805</td>\n",
       "      <td>8519.500000</td>\n",
       "    </tr>\n",
       "    <tr>\n",
       "      <th>2061</th>\n",
       "      <td>8139.399902</td>\n",
       "      <td>8213.200195</td>\n",
       "      <td>8123.149902</td>\n",
       "      <td>8206.599609</td>\n",
       "    </tr>\n",
       "    <tr>\n",
       "      <th>2657</th>\n",
       "      <td>10580.599609</td>\n",
       "      <td>10646.500000</td>\n",
       "      <td>10557.500000</td>\n",
       "      <td>10616.700195</td>\n",
       "    </tr>\n",
       "    <tr>\n",
       "      <th>1362</th>\n",
       "      <td>5937.950195</td>\n",
       "      <td>5944.500000</td>\n",
       "      <td>5869.500000</td>\n",
       "      <td>5886.200195</td>\n",
       "    </tr>\n",
       "    <tr>\n",
       "      <th>1335</th>\n",
       "      <td>5805.750000</td>\n",
       "      <td>5828.399902</td>\n",
       "      <td>5777.899902</td>\n",
       "      <td>5822.250000</td>\n",
       "    </tr>\n",
       "  </tbody>\n",
       "</table>\n",
       "<p>704 rows × 4 columns</p>\n",
       "</div>"
      ],
      "text/plain": [
       "              Open          High           Low         Close\n",
       "1502   6108.299805   6159.649902   6108.000000   6155.450195\n",
       "3464  16548.900391  16705.250000  16203.250000  16247.950195\n",
       "202    2936.250000   2936.250000   2525.050049   2584.000000\n",
       "459    5052.950195   5113.100098   5052.100098   5103.549805\n",
       "2394  10176.650391  10224.150391  10124.500000  10184.849609\n",
       "...            ...           ...           ...           ...\n",
       "2080   8540.450195   8550.250000   8493.549805   8519.500000\n",
       "2061   8139.399902   8213.200195   8123.149902   8206.599609\n",
       "2657  10580.599609  10646.500000  10557.500000  10616.700195\n",
       "1362   5937.950195   5944.500000   5869.500000   5886.200195\n",
       "1335   5805.750000   5828.399902   5777.899902   5822.250000\n",
       "\n",
       "[704 rows x 4 columns]"
      ]
     },
     "execution_count": 27,
     "metadata": {},
     "output_type": "execute_result"
    }
   ],
   "source": [
    "test"
   ]
  },
  {
   "cell_type": "code",
   "execution_count": 6,
   "id": "24b0cf69",
   "metadata": {},
   "outputs": [
    {
     "name": "stdout",
     "output_type": "stream",
     "text": [
      "Model: \"sequential\"\n",
      "_________________________________________________________________\n",
      " Layer (type)                Output Shape              Param #   \n",
      "=================================================================\n",
      " dense (Dense)               (None, 128)               640       \n",
      "                                                                 \n",
      " dense_1 (Dense)             (None, 256)               33024     \n",
      "                                                                 \n",
      " dense_2 (Dense)             (None, 256)               65792     \n",
      "                                                                 \n",
      " dense_3 (Dense)             (None, 256)               65792     \n",
      "                                                                 \n",
      " dense_4 (Dense)             (None, 1)                 257       \n",
      "                                                                 \n",
      "=================================================================\n",
      "Total params: 165,505\n",
      "Trainable params: 165,505\n",
      "Non-trainable params: 0\n",
      "_________________________________________________________________\n"
     ]
    },
    {
     "name": "stderr",
     "output_type": "stream",
     "text": [
      "2022-05-22 12:28:50.351384: I tensorflow/core/platform/cpu_feature_guard.cc:151] This TensorFlow binary is optimized with oneAPI Deep Neural Network Library (oneDNN) to use the following CPU instructions in performance-critical operations:  AVX2 FMA\n",
      "To enable them in other operations, rebuild TensorFlow with the appropriate compiler flags.\n"
     ]
    }
   ],
   "source": [
    "# Load wights file of the best model this model is giving 69.05 MAE:\n",
    "NN_model = Sequential()\n",
    "\n",
    "NN_model.add(Dense(128, kernel_initializer='normal',input_dim = train.shape[1], activation='relu'))\n",
    "\n",
    "NN_model.add(Dense(256, kernel_initializer='normal',activation='relu'))\n",
    "NN_model.add(Dense(256, kernel_initializer='normal',activation='relu'))\n",
    "NN_model.add(Dense(256, kernel_initializer='normal',activation='relu'))\n",
    "\n",
    "NN_model.add(Dense(1, kernel_initializer='normal',activation='linear'))\n",
    "\n",
    "NN_model.compile(loss='mean_absolute_error', optimizer='adam', metrics=['mean_absolute_error'])\n",
    "NN_model.summary()\n",
    "\n",
    "wights_file = 'Weights-474--68.97243.hdf5' # choose the best checkpoint \n",
    "NN_model.load_weights(wights_file) # load it\n",
    "NN_model.compile(loss='mean_absolute_error', optimizer='adam', metrics=['mean_absolute_error'])"
   ]
  },
  {
   "cell_type": "code",
   "execution_count": 28,
   "id": "157346ea",
   "metadata": {},
   "outputs": [],
   "source": [
    "predictions = NN_model.predict(latest_test)"
   ]
  },
  {
   "cell_type": "code",
   "execution_count": 8,
   "id": "79d28b25",
   "metadata": {},
   "outputs": [],
   "source": [
    "# data = [[16933.25,17375,16839.25,17352.45]]\n",
    " \n",
    "# # Create the pandas DataFrame\n",
    "# testing_df = pd.DataFrame(data, columns = ['Open', 'High','Low','Close'])"
   ]
  },
  {
   "cell_type": "code",
   "execution_count": 9,
   "id": "78ca1b14",
   "metadata": {},
   "outputs": [],
   "source": [
    "predictions_df.loc[0,'Model'] = 'Neural_Network'\n",
    "predictions_df.loc[0,'Index'] = '%5ENSEI'\n",
    "predictions_df.loc[0,'Price'] = predictions[0][0]\n",
    "predictions_df.loc[0,'MAE'] = 68.97"
   ]
  },
  {
   "cell_type": "code",
   "execution_count": 10,
   "id": "46b01f30",
   "metadata": {},
   "outputs": [],
   "source": [
    "train_X, val_X, train_y, val_y = train_test_split(train, target, test_size = 0.25, random_state = 14)"
   ]
  },
  {
   "cell_type": "code",
   "execution_count": 11,
   "id": "362b92ac",
   "metadata": {},
   "outputs": [
    {
     "data": {
      "text/plain": [
       "RandomForestRegressor()"
      ]
     },
     "execution_count": 11,
     "metadata": {},
     "output_type": "execute_result"
    }
   ],
   "source": [
    "model = RandomForestRegressor()\n",
    "model.fit(train_X,train_y)"
   ]
  },
  {
   "cell_type": "code",
   "execution_count": 12,
   "id": "0f37bad4",
   "metadata": {},
   "outputs": [
    {
     "name": "stdout",
     "output_type": "stream",
     "text": [
      "Random forest validation MAE =  81.29253811229358\n"
     ]
    }
   ],
   "source": [
    "\n",
    "predicted_prices = model.predict(val_X)\n",
    "MAE = mean_absolute_error(val_y , predicted_prices)\n",
    "print('Random forest validation MAE = ', MAE)\n",
    "\n",
    "predicted_prices = model.predict(latest_test)"
   ]
  },
  {
   "cell_type": "code",
   "execution_count": 13,
   "id": "d71a2aec",
   "metadata": {},
   "outputs": [],
   "source": [
    "predictions_df.loc[1,'Model'] = 'Random_Forest'\n",
    "predictions_df.loc[1,'Index'] = '%5ENSEI'\n",
    "predictions_df.loc[1,'Price'] = predicted_prices[0]\n",
    "predictions_df.loc[1,'MAE'] = round(MAE,2)"
   ]
  },
  {
   "cell_type": "code",
   "execution_count": 14,
   "id": "363bf9a8",
   "metadata": {},
   "outputs": [
    {
     "data": {
      "text/plain": [
       "XGBRegressor(base_score=0.5, booster='gbtree', colsample_bylevel=1,\n",
       "             colsample_bynode=1, colsample_bytree=1, enable_categorical=False,\n",
       "             gamma=0, gpu_id=-1, importance_type=None,\n",
       "             interaction_constraints='', learning_rate=0.300000012,\n",
       "             max_delta_step=0, max_depth=6, min_child_weight=1, missing=nan,\n",
       "             monotone_constraints='()', n_estimators=100, n_jobs=8,\n",
       "             num_parallel_tree=1, predictor='auto', random_state=0, reg_alpha=0,\n",
       "             reg_lambda=1, scale_pos_weight=1, subsample=1, tree_method='exact',\n",
       "             validate_parameters=1, verbosity=None)"
      ]
     },
     "execution_count": 14,
     "metadata": {},
     "output_type": "execute_result"
    }
   ],
   "source": [
    "XGBModel = XGBRegressor()\n",
    "XGBModel.fit(train_X,train_y , verbose=False)"
   ]
  },
  {
   "cell_type": "code",
   "execution_count": 15,
   "id": "f80b0bb6",
   "metadata": {},
   "outputs": [
    {
     "name": "stdout",
     "output_type": "stream",
     "text": [
      "XGBoost validation MAE =  85.10835127397017\n"
     ]
    }
   ],
   "source": [
    "XGBpredictions = XGBModel.predict(val_X)\n",
    "\n",
    "MAE = mean_absolute_error(val_y , XGBpredictions)\n",
    "print('XGBoost validation MAE = ',MAE)\n",
    "\n",
    "XGBpredictions = XGBModel.predict(latest_test)"
   ]
  },
  {
   "cell_type": "code",
   "execution_count": 16,
   "id": "3fcc3a9e",
   "metadata": {},
   "outputs": [],
   "source": [
    "predictions_df.loc[2,'Model'] = 'XG_Boost'\n",
    "predictions_df.loc[2,'Index'] = '%5ENSEI'\n",
    "predictions_df.loc[2,'Price'] = XGBpredictions[0]\n",
    "predictions_df.loc[2,'MAE'] = round(MAE,2)"
   ]
  },
  {
   "cell_type": "code",
   "execution_count": 17,
   "id": "b7da8724",
   "metadata": {},
   "outputs": [
    {
     "data": {
      "text/html": [
       "<div>\n",
       "<style scoped>\n",
       "    .dataframe tbody tr th:only-of-type {\n",
       "        vertical-align: middle;\n",
       "    }\n",
       "\n",
       "    .dataframe tbody tr th {\n",
       "        vertical-align: top;\n",
       "    }\n",
       "\n",
       "    .dataframe thead th {\n",
       "        text-align: right;\n",
       "    }\n",
       "</style>\n",
       "<table border=\"1\" class=\"dataframe\">\n",
       "  <thead>\n",
       "    <tr style=\"text-align: right;\">\n",
       "      <th></th>\n",
       "      <th>Model</th>\n",
       "      <th>Index</th>\n",
       "      <th>Price</th>\n",
       "      <th>MAE</th>\n",
       "    </tr>\n",
       "  </thead>\n",
       "  <tbody>\n",
       "    <tr>\n",
       "      <th>0</th>\n",
       "      <td>Neural_Network</td>\n",
       "      <td>%5ENSEI</td>\n",
       "      <td>16240.780273</td>\n",
       "      <td>68.97</td>\n",
       "    </tr>\n",
       "    <tr>\n",
       "      <th>1</th>\n",
       "      <td>Random_Forest</td>\n",
       "      <td>%5ENSEI</td>\n",
       "      <td>16238.779326</td>\n",
       "      <td>81.29</td>\n",
       "    </tr>\n",
       "    <tr>\n",
       "      <th>2</th>\n",
       "      <td>XG_Boost</td>\n",
       "      <td>%5ENSEI</td>\n",
       "      <td>16257.451172</td>\n",
       "      <td>85.11</td>\n",
       "    </tr>\n",
       "  </tbody>\n",
       "</table>\n",
       "</div>"
      ],
      "text/plain": [
       "            Model    Index         Price    MAE\n",
       "0  Neural_Network  %5ENSEI  16240.780273  68.97\n",
       "1   Random_Forest  %5ENSEI  16238.779326  81.29\n",
       "2        XG_Boost  %5ENSEI  16257.451172  85.11"
      ]
     },
     "execution_count": 17,
     "metadata": {},
     "output_type": "execute_result"
    }
   ],
   "source": [
    "predictions_df"
   ]
  },
  {
   "cell_type": "code",
   "execution_count": null,
   "id": "040f110f",
   "metadata": {},
   "outputs": [],
   "source": []
  }
 ],
 "metadata": {
  "kernelspec": {
   "display_name": "Python 3 (ipykernel)",
   "language": "python",
   "name": "python3"
  },
  "language_info": {
   "codemirror_mode": {
    "name": "ipython",
    "version": 3
   },
   "file_extension": ".py",
   "mimetype": "text/x-python",
   "name": "python",
   "nbconvert_exporter": "python",
   "pygments_lexer": "ipython3",
   "version": "3.9.12"
  }
 },
 "nbformat": 4,
 "nbformat_minor": 5
}
