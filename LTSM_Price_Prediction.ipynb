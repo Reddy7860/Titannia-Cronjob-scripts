{
 "cells": [
  {
   "cell_type": "code",
   "execution_count": 1,
   "metadata": {},
   "outputs": [
    {
     "ename": "ModuleNotFoundError",
     "evalue": "No module named 'talib'",
     "output_type": "error",
     "traceback": [
      "\u001b[0;31m---------------------------------------------------------------------------\u001b[0m",
      "\u001b[0;31mModuleNotFoundError\u001b[0m                       Traceback (most recent call last)",
      "\u001b[0;32m<ipython-input-1-fa8d9b7bced1>\u001b[0m in \u001b[0;36m<module>\u001b[0;34m\u001b[0m\n\u001b[1;32m      9\u001b[0m \u001b[0;32mfrom\u001b[0m \u001b[0msklearn\u001b[0m\u001b[0;34m.\u001b[0m\u001b[0mpreprocessing\u001b[0m \u001b[0;32mimport\u001b[0m \u001b[0mMinMaxScaler\u001b[0m\u001b[0;34m\u001b[0m\u001b[0;34m\u001b[0m\u001b[0m\n\u001b[1;32m     10\u001b[0m \u001b[0;32mimport\u001b[0m \u001b[0myfinance\u001b[0m \u001b[0;32mas\u001b[0m \u001b[0myf\u001b[0m\u001b[0;34m\u001b[0m\u001b[0;34m\u001b[0m\u001b[0m\n\u001b[0;32m---> 11\u001b[0;31m \u001b[0;32mimport\u001b[0m \u001b[0mtalib\u001b[0m \u001b[0;32mas\u001b[0m \u001b[0mta\u001b[0m\u001b[0;34m\u001b[0m\u001b[0;34m\u001b[0m\u001b[0m\n\u001b[0m\u001b[1;32m     12\u001b[0m \u001b[0;32mfrom\u001b[0m \u001b[0msklearn\u001b[0m\u001b[0;34m.\u001b[0m\u001b[0mmodel_selection\u001b[0m \u001b[0;32mimport\u001b[0m \u001b[0mtrain_test_split\u001b[0m\u001b[0;34m\u001b[0m\u001b[0;34m\u001b[0m\u001b[0m\n\u001b[1;32m     13\u001b[0m \u001b[0;32mfrom\u001b[0m \u001b[0msklearn\u001b[0m\u001b[0;34m.\u001b[0m\u001b[0mpreprocessing\u001b[0m \u001b[0;32mimport\u001b[0m \u001b[0mStandardScaler\u001b[0m\u001b[0;34m\u001b[0m\u001b[0;34m\u001b[0m\u001b[0m\n",
      "\u001b[0;31mModuleNotFoundError\u001b[0m: No module named 'talib'"
     ]
    }
   ],
   "source": [
    "import pandas as pd\n",
    "import numpy as np\n",
    "import matplotlib.pyplot as plt\n",
    "%matplotlib inline\n",
    "from matplotlib.pylab import rcParams\n",
    "rcParams['figure.figsize']=20,10\n",
    "from keras.models import Sequential\n",
    "from keras.layers import LSTM,Dropout,Dense\n",
    "from sklearn.preprocessing import MinMaxScaler\n",
    "import yfinance as yf\n",
    "import talib as ta\n",
    "from sklearn.model_selection import train_test_split\n",
    "from sklearn.preprocessing import StandardScaler\n",
    "from keras.wrappers.scikit_learn import KerasClassifier\n",
    "from sklearn.model_selection import GridSearchCV\n",
    "\n",
    "from keras.models import Sequential\n",
    "from keras.layers import Dense, Activation, Embedding, Flatten, LeakyReLU, BatchNormalization, Dropout\n",
    "from keras.activations import relu, sigmoid\n",
    "from keras.layers import LeakyReLU\n",
    "\n",
    "from datetime import datetime\n",
    "\n",
    "from tensorflow import keras\n",
    "from tensorflow.keras import layers\n",
    "from kerastuner.tuners import RandomSearch"
   ]
  },
  {
   "cell_type": "markdown",
   "metadata": {},
   "source": [
    "### Importing the Data of the Stock/Index"
   ]
  },
  {
   "cell_type": "code",
   "execution_count": 158,
   "metadata": {},
   "outputs": [
    {
     "name": "stdout",
     "output_type": "stream",
     "text": [
      "[*********************100%***********************]  1 of 1 completed\n"
     ]
    }
   ],
   "source": [
    "df = yf.download('RELIANCE.NS', '2008-01-01', auto_adjust=True)\n",
    "\n",
    "df = df.reset_index()"
   ]
  },
  {
   "cell_type": "markdown",
   "metadata": {},
   "source": [
    "### Adding the technical indicators and any relevant parameters"
   ]
  },
  {
   "cell_type": "code",
   "execution_count": 159,
   "metadata": {},
   "outputs": [],
   "source": [
    "def get_wr(high, low, close, lookback):\n",
    "    highh = high.rolling(lookback).max() \n",
    "    lowl = low.rolling(lookback).min()\n",
    "    wr = -100 * ((highh - close) / (highh - lowl))\n",
    "    return wr"
   ]
  },
  {
   "cell_type": "code",
   "execution_count": 160,
   "metadata": {},
   "outputs": [],
   "source": [
    "def ROC(data,n):\n",
    "    N = data['Close'].diff(n)\n",
    "    D = data['Close'].shift(n)\n",
    "    ROC = pd.Series(N/D,name='Rate of Change')\n",
    "    data = data.join(ROC)\n",
    "    return data "
   ]
  },
  {
   "cell_type": "code",
   "execution_count": 161,
   "metadata": {},
   "outputs": [],
   "source": [
    "df['SMA_5'] = df['Close'].transform(lambda x: x.rolling(window = 5).mean())\n",
    "df['SMA_15'] = df['Close'].transform(lambda x: x.rolling(window = 15).mean())\n",
    "df['SMA_ratio'] = df['SMA_15'] / df['SMA_5']\n",
    "\n",
    "df['SMA5_Volume'] = df['Volume'].transform(lambda x: x.rolling(window = 5).mean())\n",
    "df['SMA15_Volume'] = df['Volume'].transform(lambda x: x.rolling(window = 15).mean())\n",
    "df['SMA_Volume_Ratio'] = df['SMA5_Volume']/df['SMA15_Volume']\n",
    "\n",
    "df['SMA_20'] = ta.SMA(df['Close'],20)\n",
    "df['EMA_20'] = ta.EMA(df['Close'], timeperiod = 20)\n",
    "df['ADX'] = ta.ADX(df['High'],df['Low'], df['Close'], timeperiod=20)\n",
    "\n",
    "df['up_band'], df['mid_band'], df['low_band'] = ta.BBANDS(df['Close'], timeperiod =20)\n",
    "\n",
    "df['RSI'] = ta.RSI(df['Close'],14)\n",
    "\n",
    "df['wr_14'] = get_wr(df['High'],df['Low'], df['Close'], 14)\n",
    "\n",
    "\n",
    "NIFTY_ROC = ROC(df,5)\n",
    "df['ROC'] = NIFTY_ROC['Rate of Change']\n",
    "\n",
    "# aapl_df.ta.log_return(cumulative=True, append=True)\n",
    "# aapl_df.ta.percent_return(cumulative=True, append=True)\n",
    "# aapl_df.ta.vwap(cumulative=True, append=True)\n",
    "# aapl_df.ta.atr(cumulative=True, append=True)\n",
    "# aapl_df.ta.smi(cumulative=True, append=True)\n",
    "# aapl_df.ta.adx(cumulative=True, append=True)\n",
    "# aapl_df.ta.aroon(cumulative=True, append=True)\n",
    "# aapl_df.ta.bbands(cumulative=True, append=True)\n",
    "\n",
    "# aapl_df.ta.cmf(cumulative=True, append=True)\n",
    "# # aapl_df.ta.psar(cumulative=True, append=True)\n",
    "# aapl_df.ta.mfi(cumulative=True, append=True)\n",
    "# aapl_df.ta.macd(cumulative=True, append=True)\n",
    "# # aapl_df.ta.eom(cumulative=True, append=True)\n",
    "# aapl_df.ta.rsi(cumulative=True, append=True)\n",
    "\n",
    "# aapl_df.ta.ema(close=aapl_df.ta.ohlc4(), length=10, suffix=\"OHLC4\",append = True)\n",
    "# aapl_df.ta.sma(close=aapl_df.ta.ohlc4(), length=10, suffix=\"OHLC4\",append = True)\n",
    "# aapl_df.ta.ema(close=aapl_df.ta.ohlc4(), length=20, suffix=\"OHLC4\",append = True)\n",
    "# aapl_df.ta.sma(close=aapl_df.ta.ohlc4(), length=20, suffix=\"OHLC4\",append = True)\n",
    "# aapl_df.ta.ema(close=aapl_df.ta.ohlc4(), length=30, suffix=\"OHLC4\",append = True)\n",
    "# aapl_df.ta.sma(close=aapl_df.ta.ohlc4(), length=30, suffix=\"OHLC4\",append = True)\n",
    "# aapl_df.ta.ema(close=aapl_df.ta.ohlc4(), length=50, suffix=\"OHLC4\",append = True)\n",
    "# aapl_df.ta.sma(close=aapl_df.ta.ohlc4(), length=50, suffix=\"OHLC4\",append = True)\n",
    "# aapl_df.ta.ema(close=aapl_df.ta.ohlc4(), length=100, suffix=\"OHLC4\",append = True)\n",
    "# aapl_df.ta.sma(close=aapl_df.ta.ohlc4(), length=100, suffix=\"OHLC4\",append = True)\n",
    "# aapl_df.ta.ema(close=aapl_df.ta.ohlc4(), length=200, suffix=\"OHLC4\",append = True)\n",
    "# aapl_df.ta.sma(close=aapl_df.ta.ohlc4(), length=200, suffix=\"OHLC4\",append = True)\n",
    "\n",
    "# aapl_df.ta.vwma(cumulative=True,length = 20, append=True)\n",
    "# aapl_df.ta.hma(cumulative=True,length = 9, append=True)\n",
    "\n",
    "# aapl_df['SAR'] = talib.SAR(aapl_df.High, aapl_df.Low, acceleration=0.02, maximum=0.2)\n",
    "\n",
    "# aapl_df['avg_price'] = (aapl_df['Open'] + aapl_df['Close'])/2\n",
    "\n",
    "\n",
    "\n",
    "\n",
    "# df['Next_day_Close'] = df['Close'].shift(-1)\n",
    "df['RSI'] = ta.RSI(np.array(df['Close']), timeperiod =20)\n",
    "df['Date_of_week']= df['Date'].dt.dayofweek\n",
    "\n",
    "df['Next_day_Close_Side'] = np.where(df['Close'].shift(-1) > df['Close'],1,0)"
   ]
  },
  {
   "cell_type": "code",
   "execution_count": 164,
   "metadata": {},
   "outputs": [
    {
     "data": {
      "text/plain": [
       "Index(['Date', 'Open', 'High', 'Low', 'Close', 'Volume', 'SMA_5', 'SMA_15',\n",
       "       'SMA_ratio', 'SMA5_Volume', 'SMA15_Volume', 'SMA_Volume_Ratio',\n",
       "       'SMA_20', 'EMA_20', 'ADX', 'up_band', 'mid_band', 'low_band', 'RSI',\n",
       "       'wr_14', 'ROC', 'Date_of_week', 'Next_day_Close_Side'],\n",
       "      dtype='object')"
      ]
     },
     "execution_count": 164,
     "metadata": {},
     "output_type": "execute_result"
    }
   ],
   "source": [
    "df.columns"
   ]
  },
  {
   "cell_type": "markdown",
   "metadata": {},
   "source": [
    "### Data preparation and pre processing"
   ]
  },
  {
   "cell_type": "code",
   "execution_count": 163,
   "metadata": {},
   "outputs": [],
   "source": [
    "df = df.dropna()\n",
    "df.reset_index(inplace = True, drop = True)"
   ]
  },
  {
   "cell_type": "markdown",
   "metadata": {},
   "source": [
    "### Extracting the Dependent and Independent Variables"
   ]
  },
  {
   "cell_type": "code",
   "execution_count": 177,
   "metadata": {},
   "outputs": [],
   "source": [
    "X = df.iloc[:, 1:22]\n",
    "y = df.iloc[:, 22]"
   ]
  },
  {
   "cell_type": "code",
   "execution_count": 178,
   "metadata": {},
   "outputs": [
    {
     "data": {
      "text/html": [
       "<div>\n",
       "<style scoped>\n",
       "    .dataframe tbody tr th:only-of-type {\n",
       "        vertical-align: middle;\n",
       "    }\n",
       "\n",
       "    .dataframe tbody tr th {\n",
       "        vertical-align: top;\n",
       "    }\n",
       "\n",
       "    .dataframe thead th {\n",
       "        text-align: right;\n",
       "    }\n",
       "</style>\n",
       "<table border=\"1\" class=\"dataframe\">\n",
       "  <thead>\n",
       "    <tr style=\"text-align: right;\">\n",
       "      <th></th>\n",
       "      <th>Open</th>\n",
       "      <th>High</th>\n",
       "      <th>Low</th>\n",
       "      <th>Close</th>\n",
       "      <th>Volume</th>\n",
       "      <th>SMA_5</th>\n",
       "      <th>SMA_15</th>\n",
       "      <th>SMA_ratio</th>\n",
       "      <th>SMA5_Volume</th>\n",
       "      <th>SMA15_Volume</th>\n",
       "      <th>...</th>\n",
       "      <th>SMA_20</th>\n",
       "      <th>EMA_20</th>\n",
       "      <th>ADX</th>\n",
       "      <th>up_band</th>\n",
       "      <th>mid_band</th>\n",
       "      <th>low_band</th>\n",
       "      <th>RSI</th>\n",
       "      <th>wr_14</th>\n",
       "      <th>ROC</th>\n",
       "      <th>Date_of_week</th>\n",
       "    </tr>\n",
       "  </thead>\n",
       "  <tbody>\n",
       "    <tr>\n",
       "      <th>0</th>\n",
       "      <td>555.650381</td>\n",
       "      <td>571.239732</td>\n",
       "      <td>536.731539</td>\n",
       "      <td>568.222107</td>\n",
       "      <td>7484576</td>\n",
       "      <td>557.688245</td>\n",
       "      <td>552.279451</td>\n",
       "      <td>0.990301</td>\n",
       "      <td>7478165.2</td>\n",
       "      <td>1.060780e+07</td>\n",
       "      <td>...</td>\n",
       "      <td>555.200610</td>\n",
       "      <td>566.246533</td>\n",
       "      <td>22.438672</td>\n",
       "      <td>594.858263</td>\n",
       "      <td>555.200610</td>\n",
       "      <td>515.542958</td>\n",
       "      <td>47.529964</td>\n",
       "      <td>-17.376175</td>\n",
       "      <td>-0.000881</td>\n",
       "      <td>0</td>\n",
       "    </tr>\n",
       "    <tr>\n",
       "      <th>1</th>\n",
       "      <td>571.217564</td>\n",
       "      <td>575.916649</td>\n",
       "      <td>563.912781</td>\n",
       "      <td>573.834351</td>\n",
       "      <td>5903324</td>\n",
       "      <td>558.672583</td>\n",
       "      <td>551.678878</td>\n",
       "      <td>0.987482</td>\n",
       "      <td>7359696.0</td>\n",
       "      <td>1.053519e+07</td>\n",
       "      <td>...</td>\n",
       "      <td>555.197818</td>\n",
       "      <td>566.969182</td>\n",
       "      <td>22.032732</td>\n",
       "      <td>594.850214</td>\n",
       "      <td>555.197818</td>\n",
       "      <td>515.545422</td>\n",
       "      <td>48.472255</td>\n",
       "      <td>-10.796471</td>\n",
       "      <td>0.008651</td>\n",
       "      <td>1</td>\n",
       "    </tr>\n",
       "    <tr>\n",
       "      <th>2</th>\n",
       "      <td>580.147982</td>\n",
       "      <td>587.497278</td>\n",
       "      <td>572.364421</td>\n",
       "      <td>576.462219</td>\n",
       "      <td>10762911</td>\n",
       "      <td>563.324878</td>\n",
       "      <td>552.212622</td>\n",
       "      <td>0.980274</td>\n",
       "      <td>7729457.6</td>\n",
       "      <td>1.066002e+07</td>\n",
       "      <td>...</td>\n",
       "      <td>556.495630</td>\n",
       "      <td>567.873281</td>\n",
       "      <td>21.413778</td>\n",
       "      <td>597.135604</td>\n",
       "      <td>556.495630</td>\n",
       "      <td>515.855656</td>\n",
       "      <td>48.924351</td>\n",
       "      <td>-12.295298</td>\n",
       "      <td>0.042049</td>\n",
       "      <td>2</td>\n",
       "    </tr>\n",
       "    <tr>\n",
       "      <th>3</th>\n",
       "      <td>574.580498</td>\n",
       "      <td>579.034567</td>\n",
       "      <td>560.483188</td>\n",
       "      <td>564.169006</td>\n",
       "      <td>11394437</td>\n",
       "      <td>564.970679</td>\n",
       "      <td>553.813135</td>\n",
       "      <td>0.980251</td>\n",
       "      <td>8710168.8</td>\n",
       "      <td>1.057611e+07</td>\n",
       "      <td>...</td>\n",
       "      <td>557.100839</td>\n",
       "      <td>567.520493</td>\n",
       "      <td>21.016492</td>\n",
       "      <td>597.819289</td>\n",
       "      <td>557.100839</td>\n",
       "      <td>516.382390</td>\n",
       "      <td>46.898145</td>\n",
       "      <td>-25.992436</td>\n",
       "      <td>0.014802</td>\n",
       "      <td>3</td>\n",
       "    </tr>\n",
       "    <tr>\n",
       "      <th>4</th>\n",
       "      <td>568.344789</td>\n",
       "      <td>568.344789</td>\n",
       "      <td>536.720614</td>\n",
       "      <td>548.624207</td>\n",
       "      <td>13474162</td>\n",
       "      <td>566.262378</td>\n",
       "      <td>554.363224</td>\n",
       "      <td>0.978987</td>\n",
       "      <td>9803882.0</td>\n",
       "      <td>1.062365e+07</td>\n",
       "      <td>...</td>\n",
       "      <td>556.217816</td>\n",
       "      <td>565.720847</td>\n",
       "      <td>20.992245</td>\n",
       "      <td>596.867236</td>\n",
       "      <td>556.217816</td>\n",
       "      <td>515.568396</td>\n",
       "      <td>44.447920</td>\n",
       "      <td>-45.813424</td>\n",
       "      <td>0.011912</td>\n",
       "      <td>4</td>\n",
       "    </tr>\n",
       "    <tr>\n",
       "      <th>...</th>\n",
       "      <td>...</td>\n",
       "      <td>...</td>\n",
       "      <td>...</td>\n",
       "      <td>...</td>\n",
       "      <td>...</td>\n",
       "      <td>...</td>\n",
       "      <td>...</td>\n",
       "      <td>...</td>\n",
       "      <td>...</td>\n",
       "      <td>...</td>\n",
       "      <td>...</td>\n",
       "      <td>...</td>\n",
       "      <td>...</td>\n",
       "      <td>...</td>\n",
       "      <td>...</td>\n",
       "      <td>...</td>\n",
       "      <td>...</td>\n",
       "      <td>...</td>\n",
       "      <td>...</td>\n",
       "      <td>...</td>\n",
       "      <td>...</td>\n",
       "    </tr>\n",
       "    <tr>\n",
       "      <th>3430</th>\n",
       "      <td>2360.199951</td>\n",
       "      <td>2406.399902</td>\n",
       "      <td>2356.199951</td>\n",
       "      <td>2386.600098</td>\n",
       "      <td>5604308</td>\n",
       "      <td>2362.340039</td>\n",
       "      <td>2456.773372</td>\n",
       "      <td>1.039974</td>\n",
       "      <td>8603371.0</td>\n",
       "      <td>6.740675e+06</td>\n",
       "      <td>...</td>\n",
       "      <td>2451.782544</td>\n",
       "      <td>2426.827842</td>\n",
       "      <td>16.415562</td>\n",
       "      <td>2583.833859</td>\n",
       "      <td>2451.782544</td>\n",
       "      <td>2319.731229</td>\n",
       "      <td>45.825402</td>\n",
       "      <td>-68.890552</td>\n",
       "      <td>-0.036826</td>\n",
       "      <td>0</td>\n",
       "    </tr>\n",
       "    <tr>\n",
       "      <th>3431</th>\n",
       "      <td>2408.000000</td>\n",
       "      <td>2420.600098</td>\n",
       "      <td>2347.100098</td>\n",
       "      <td>2378.699951</td>\n",
       "      <td>6092033</td>\n",
       "      <td>2362.500049</td>\n",
       "      <td>2452.820036</td>\n",
       "      <td>1.038231</td>\n",
       "      <td>7803275.4</td>\n",
       "      <td>6.862319e+06</td>\n",
       "      <td>...</td>\n",
       "      <td>2450.525037</td>\n",
       "      <td>2422.244233</td>\n",
       "      <td>16.201236</td>\n",
       "      <td>2584.837857</td>\n",
       "      <td>2450.525037</td>\n",
       "      <td>2316.212217</td>\n",
       "      <td>45.184504</td>\n",
       "      <td>-71.902426</td>\n",
       "      <td>0.000336</td>\n",
       "      <td>1</td>\n",
       "    </tr>\n",
       "    <tr>\n",
       "      <th>3432</th>\n",
       "      <td>2407.000000</td>\n",
       "      <td>2407.000000</td>\n",
       "      <td>2375.100098</td>\n",
       "      <td>2383.550049</td>\n",
       "      <td>4623163</td>\n",
       "      <td>2364.560059</td>\n",
       "      <td>2448.020036</td>\n",
       "      <td>1.035296</td>\n",
       "      <td>6465616.8</td>\n",
       "      <td>6.671951e+06</td>\n",
       "      <td>...</td>\n",
       "      <td>2446.797534</td>\n",
       "      <td>2418.559073</td>\n",
       "      <td>15.997625</td>\n",
       "      <td>2584.165689</td>\n",
       "      <td>2446.797534</td>\n",
       "      <td>2309.429379</td>\n",
       "      <td>45.675491</td>\n",
       "      <td>-70.053361</td>\n",
       "      <td>0.004340</td>\n",
       "      <td>2</td>\n",
       "    </tr>\n",
       "    <tr>\n",
       "      <th>3433</th>\n",
       "      <td>2392.000000</td>\n",
       "      <td>2401.449951</td>\n",
       "      <td>2347.199951</td>\n",
       "      <td>2352.750000</td>\n",
       "      <td>4417864</td>\n",
       "      <td>2367.490039</td>\n",
       "      <td>2436.796696</td>\n",
       "      <td>1.029274</td>\n",
       "      <td>5501304.4</td>\n",
       "      <td>6.511116e+06</td>\n",
       "      <td>...</td>\n",
       "      <td>2440.955029</td>\n",
       "      <td>2412.291542</td>\n",
       "      <td>16.056196</td>\n",
       "      <td>2583.778231</td>\n",
       "      <td>2440.955029</td>\n",
       "      <td>2298.131828</td>\n",
       "      <td>43.095177</td>\n",
       "      <td>-81.795657</td>\n",
       "      <td>0.006266</td>\n",
       "      <td>3</td>\n",
       "    </tr>\n",
       "    <tr>\n",
       "      <th>3434</th>\n",
       "      <td>2341.000000</td>\n",
       "      <td>2348.449951</td>\n",
       "      <td>2321.100098</td>\n",
       "      <td>2331.300049</td>\n",
       "      <td>5104761</td>\n",
       "      <td>2366.580029</td>\n",
       "      <td>2423.196696</td>\n",
       "      <td>1.023923</td>\n",
       "      <td>5168425.8</td>\n",
       "      <td>6.486642e+06</td>\n",
       "      <td>...</td>\n",
       "      <td>2436.695032</td>\n",
       "      <td>2404.578067</td>\n",
       "      <td>16.333246</td>\n",
       "      <td>2587.064942</td>\n",
       "      <td>2436.695032</td>\n",
       "      <td>2286.325122</td>\n",
       "      <td>41.381431</td>\n",
       "      <td>-89.884597</td>\n",
       "      <td>-0.001948</td>\n",
       "      <td>4</td>\n",
       "    </tr>\n",
       "  </tbody>\n",
       "</table>\n",
       "<p>3435 rows × 21 columns</p>\n",
       "</div>"
      ],
      "text/plain": [
       "             Open         High          Low        Close    Volume  \\\n",
       "0      555.650381   571.239732   536.731539   568.222107   7484576   \n",
       "1      571.217564   575.916649   563.912781   573.834351   5903324   \n",
       "2      580.147982   587.497278   572.364421   576.462219  10762911   \n",
       "3      574.580498   579.034567   560.483188   564.169006  11394437   \n",
       "4      568.344789   568.344789   536.720614   548.624207  13474162   \n",
       "...           ...          ...          ...          ...       ...   \n",
       "3430  2360.199951  2406.399902  2356.199951  2386.600098   5604308   \n",
       "3431  2408.000000  2420.600098  2347.100098  2378.699951   6092033   \n",
       "3432  2407.000000  2407.000000  2375.100098  2383.550049   4623163   \n",
       "3433  2392.000000  2401.449951  2347.199951  2352.750000   4417864   \n",
       "3434  2341.000000  2348.449951  2321.100098  2331.300049   5104761   \n",
       "\n",
       "            SMA_5       SMA_15  SMA_ratio  SMA5_Volume  SMA15_Volume  ...  \\\n",
       "0      557.688245   552.279451   0.990301    7478165.2  1.060780e+07  ...   \n",
       "1      558.672583   551.678878   0.987482    7359696.0  1.053519e+07  ...   \n",
       "2      563.324878   552.212622   0.980274    7729457.6  1.066002e+07  ...   \n",
       "3      564.970679   553.813135   0.980251    8710168.8  1.057611e+07  ...   \n",
       "4      566.262378   554.363224   0.978987    9803882.0  1.062365e+07  ...   \n",
       "...           ...          ...        ...          ...           ...  ...   \n",
       "3430  2362.340039  2456.773372   1.039974    8603371.0  6.740675e+06  ...   \n",
       "3431  2362.500049  2452.820036   1.038231    7803275.4  6.862319e+06  ...   \n",
       "3432  2364.560059  2448.020036   1.035296    6465616.8  6.671951e+06  ...   \n",
       "3433  2367.490039  2436.796696   1.029274    5501304.4  6.511116e+06  ...   \n",
       "3434  2366.580029  2423.196696   1.023923    5168425.8  6.486642e+06  ...   \n",
       "\n",
       "           SMA_20       EMA_20        ADX      up_band     mid_band  \\\n",
       "0      555.200610   566.246533  22.438672   594.858263   555.200610   \n",
       "1      555.197818   566.969182  22.032732   594.850214   555.197818   \n",
       "2      556.495630   567.873281  21.413778   597.135604   556.495630   \n",
       "3      557.100839   567.520493  21.016492   597.819289   557.100839   \n",
       "4      556.217816   565.720847  20.992245   596.867236   556.217816   \n",
       "...           ...          ...        ...          ...          ...   \n",
       "3430  2451.782544  2426.827842  16.415562  2583.833859  2451.782544   \n",
       "3431  2450.525037  2422.244233  16.201236  2584.837857  2450.525037   \n",
       "3432  2446.797534  2418.559073  15.997625  2584.165689  2446.797534   \n",
       "3433  2440.955029  2412.291542  16.056196  2583.778231  2440.955029   \n",
       "3434  2436.695032  2404.578067  16.333246  2587.064942  2436.695032   \n",
       "\n",
       "         low_band        RSI      wr_14       ROC  Date_of_week  \n",
       "0      515.542958  47.529964 -17.376175 -0.000881             0  \n",
       "1      515.545422  48.472255 -10.796471  0.008651             1  \n",
       "2      515.855656  48.924351 -12.295298  0.042049             2  \n",
       "3      516.382390  46.898145 -25.992436  0.014802             3  \n",
       "4      515.568396  44.447920 -45.813424  0.011912             4  \n",
       "...           ...        ...        ...       ...           ...  \n",
       "3430  2319.731229  45.825402 -68.890552 -0.036826             0  \n",
       "3431  2316.212217  45.184504 -71.902426  0.000336             1  \n",
       "3432  2309.429379  45.675491 -70.053361  0.004340             2  \n",
       "3433  2298.131828  43.095177 -81.795657  0.006266             3  \n",
       "3434  2286.325122  41.381431 -89.884597 -0.001948             4  \n",
       "\n",
       "[3435 rows x 21 columns]"
      ]
     },
     "execution_count": 178,
     "metadata": {},
     "output_type": "execute_result"
    }
   ],
   "source": [
    "X"
   ]
  },
  {
   "cell_type": "markdown",
   "metadata": {},
   "source": [
    "### Creating the Training and Test Datasets"
   ]
  },
  {
   "cell_type": "code",
   "execution_count": 179,
   "metadata": {},
   "outputs": [],
   "source": [
    "X_train, X_test, y_train, y_test = train_test_split(X, y, test_size = 0.2, random_state = 0)"
   ]
  },
  {
   "cell_type": "markdown",
   "metadata": {},
   "source": [
    "### Scaling the data between 0 and 1 "
   ]
  },
  {
   "cell_type": "code",
   "execution_count": 180,
   "metadata": {},
   "outputs": [],
   "source": [
    "sc = StandardScaler()\n",
    "X_train = sc.fit_transform(X_train)\n",
    "X_test = sc.transform(X_test)"
   ]
  },
  {
   "cell_type": "markdown",
   "metadata": {},
   "source": [
    "### Function to iterate over the parameters and return the best results"
   ]
  },
  {
   "cell_type": "code",
   "execution_count": 181,
   "metadata": {},
   "outputs": [
    {
     "name": "stderr",
     "output_type": "stream",
     "text": [
      "/var/folders/gp/x0f5sgq13db073j79l3_2tb40000gn/T/ipykernel_22605/3582075148.py:15: DeprecationWarning: KerasClassifier is deprecated, use Sci-Keras (https://github.com/adriangb/scikeras) instead. See https://www.adriangb.com/scikeras/stable/migration.html for help migrating.\n",
      "  model = KerasClassifier(build_fn=create_model, verbose=0)\n"
     ]
    }
   ],
   "source": [
    "def create_model(layers, activation):\n",
    "    model = Sequential()\n",
    "    for i, nodes in enumerate(layers):\n",
    "        if i==0:\n",
    "            model.add(Dense(nodes,input_dim=X_train.shape[1]))\n",
    "            model.add(Activation(activation))\n",
    "        else:\n",
    "            model.add(Dense(nodes))\n",
    "            model.add(Activation(activation))\n",
    "    model.add(Dense(1)) # Note: no activation beyond this point\n",
    "    \n",
    "    model.compile(optimizer='adam', loss='binary_crossentropy',metrics=['accuracy'])\n",
    "    return model\n",
    "    \n",
    "model = KerasClassifier(build_fn=create_model, verbose=0)"
   ]
  },
  {
   "cell_type": "markdown",
   "metadata": {},
   "source": [
    "### Inititalise the parameters you want to pass"
   ]
  },
  {
   "cell_type": "code",
   "execution_count": 182,
   "metadata": {},
   "outputs": [],
   "source": [
    "layers = [[20], [40, 20], [45, 30, 15]]\n",
    "activations = ['sigmoid', 'relu']\n",
    "param_grid = dict(layers=layers, activation=activations, batch_size = [128, 256], epochs=[30])\n",
    "grid = GridSearchCV(estimator=model, param_grid=param_grid)"
   ]
  },
  {
   "cell_type": "markdown",
   "metadata": {},
   "source": [
    "### Perform the grid search operation to get the results"
   ]
  },
  {
   "cell_type": "code",
   "execution_count": 183,
   "metadata": {},
   "outputs": [],
   "source": [
    "grid_result = grid.fit(X_train, y_train)"
   ]
  },
  {
   "cell_type": "markdown",
   "metadata": {},
   "source": [
    "### Visualise the best outcome"
   ]
  },
  {
   "cell_type": "code",
   "execution_count": 184,
   "metadata": {},
   "outputs": [
    {
     "data": {
      "text/plain": [
       "[0.5083649516105652,\n",
       " {'activation': 'relu',\n",
       "  'batch_size': 128,\n",
       "  'epochs': 30,\n",
       "  'layers': [45, 30, 15]}]"
      ]
     },
     "execution_count": 184,
     "metadata": {},
     "output_type": "execute_result"
    }
   ],
   "source": [
    "[grid_result.best_score_,grid_result.best_params_]"
   ]
  },
  {
   "cell_type": "code",
   "execution_count": 99,
   "metadata": {},
   "outputs": [],
   "source": [
    "pred_y = grid.predict(X_test)"
   ]
  },
  {
   "cell_type": "code",
   "execution_count": 100,
   "metadata": {},
   "outputs": [],
   "source": [
    "y_pred = (pred_y > 0.5)"
   ]
  },
  {
   "cell_type": "code",
   "execution_count": 102,
   "metadata": {},
   "outputs": [
    {
     "data": {
      "text/plain": [
       "0.507959479015919"
      ]
     },
     "execution_count": 102,
     "metadata": {},
     "output_type": "execute_result"
    }
   ],
   "source": [
    "from sklearn.metrics import confusion_matrix\n",
    "cm = confusion_matrix(y_test, y_pred)\n",
    "\n",
    "from sklearn.metrics import accuracy_score\n",
    "score=accuracy_score(y_test,y_pred)\n",
    "\n",
    "score"
   ]
  },
  {
   "cell_type": "code",
   "execution_count": null,
   "metadata": {},
   "outputs": [],
   "source": []
  }
 ],
 "metadata": {
  "kernelspec": {
   "display_name": "Python 3",
   "language": "python",
   "name": "python3"
  },
  "language_info": {
   "codemirror_mode": {
    "name": "ipython",
    "version": 3
   },
   "file_extension": ".py",
   "mimetype": "text/x-python",
   "name": "python",
   "nbconvert_exporter": "python",
   "pygments_lexer": "ipython3",
   "version": "3.8.10"
  }
 },
 "nbformat": 4,
 "nbformat_minor": 5
}
